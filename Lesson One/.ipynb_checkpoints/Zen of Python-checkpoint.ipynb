{
 "cells": [
  {
   "cell_type": "markdown",
   "metadata": {},
   "source": [
    "### Pythonic\n",
    "- Read `The Zen of Python` by opening Command Prompt -> Python interpreter, and writing `import this`\n",
    "- The following is a list of how to write Pythonic code:\n",
    "    - One statement of code per line\n",
    "    - Write explicit code whenever possible\n",
    "    - Use Python's abstraction rather \n",
    "        than generic logic\n",
    "    - Comment, comment, comment!"
   ]
  },
  {
   "cell_type": "markdown",
   "metadata": {},
   "source": [
    "### Pythonic Code Examples"
   ]
  },
  {
   "cell_type": "code",
   "execution_count": 10,
   "metadata": {},
   "outputs": [
    {
     "name": "stdout",
     "output_type": "stream",
     "text": [
      "Two statements on one line!\n",
      "One statement per line!\n"
     ]
    }
   ],
   "source": [
    "# One statement per line!\n",
    "\n",
    "print('Two statements', end=' '); print('on one line!') # This is bad practice!\n",
    "\n",
    "print('One statement per line!') # This is better, as it removes complexity!"
   ]
  },
  {
   "cell_type": "code",
   "execution_count": 8,
   "metadata": {},
   "outputs": [],
   "source": [
    "# Be explicit!\n",
    "\n",
    "def add_nums(num_one, num_two): # I am implicit!\n",
    "    ''' A function to add numbers '''\n",
    "    return num_one + num_two\n",
    "\n",
    "def add_nums_explicitly(num_one: float, num_two: float): # Check out how readable I am, because I am explicit!\n",
    "    ''' A function to add numbers '''\n",
    "    return num_one + num_two"
   ]
  },
  {
   "cell_type": "code",
   "execution_count": 14,
   "metadata": {},
   "outputs": [],
   "source": [
    "# Abstraction!\n",
    "\n",
    "def filter_list_generically(names: list):\n",
    "    ''' A function to \n",
    "        get the 2nd through 4th \n",
    "        names in a list '''\n",
    "    new_list = []\n",
    "    for i in range(1, 3):\n",
    "        new_list.append(names[i])\n",
    "        \n",
    "    return new_list\n",
    "        \n",
    "def filter_list_pythonically(names: list):\n",
    "    ''' A function to \n",
    "        get the 2nd through 4th \n",
    "        names in a list '''\n",
    "    return names[1:3]"
   ]
  },
  {
   "cell_type": "code",
   "execution_count": null,
   "metadata": {},
   "outputs": [],
   "source": []
  }
 ],
 "metadata": {
  "kernelspec": {
   "display_name": "Python 3",
   "language": "python",
   "name": "python3"
  },
  "language_info": {
   "codemirror_mode": {
    "name": "ipython",
    "version": 3
   },
   "file_extension": ".py",
   "mimetype": "text/x-python",
   "name": "python",
   "nbconvert_exporter": "python",
   "pygments_lexer": "ipython3",
   "version": "3.9.1"
  }
 },
 "nbformat": 4,
 "nbformat_minor": 4
}
