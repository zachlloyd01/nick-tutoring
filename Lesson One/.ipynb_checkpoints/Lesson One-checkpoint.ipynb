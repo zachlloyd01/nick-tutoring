{
 "cells": [
  {
   "cell_type": "markdown",
   "id": "through-worst",
   "metadata": {},
   "source": [
    "## Welcome to Python!\n",
    "- This first lesson we will cover:\n",
    "    - Installing Python\n",
    "    - A `Text Editor`\n",
    "    - `Jupyter Notebooks`\n",
    "    - Creating `variables`\n",
    "    - The different variable `types`\n",
    "    - `String Interpolation`\n",
    "        - `Operators`\n",
    "    - `Conditional Logic`\n",
    "    - `Lists`\n",
    "    - `Loops`\n",
    "        - `Nesting`\n",
    "    - `Functions`\n",
    "        - `Arguments`\n",
    "    - `Dictionaries`\n",
    "    - `Classes`"
   ]
  },
  {
   "cell_type": "markdown",
   "id": "distinct-mechanism",
   "metadata": {},
   "source": [
    "### So... What is Python?\n",
    "- More than just a language...\n",
    "    - Very `high level`, `strongly typed`, and `dynamically typed`\n",
    "        - This means it is highly `abstracted`\n",
    "        - Do not have to explicitly write `variable types`, but they still do exist."
   ]
  },
  {
   "cell_type": "markdown",
   "id": "professional-defense",
   "metadata": {},
   "source": [
    "## Installing Python\n",
    "- Head over to [python.org](https://www.python.org)\n",
    "- Click `Downloads`\n",
    "- Download and install the latest version!\n",
    "- Make sure to `Add to Path` and `Disable Path Length limit!`\n",
    "- Test the install by running `py` and `pip3` from the Command Prompt!\n",
    "- If the command `pip3` does not work, we will have to manually add it to PATH."
   ]
  },
  {
   "cell_type": "markdown",
   "id": "confirmed-despite",
   "metadata": {},
   "source": [
    "## Text Editors:\n",
    "- Through the duration of this crash course, I will be using [Visual Studio Code](https://code.visualstudio.com/), with some `extensions`\n",
    "    - `Extensions` add or modify functionality!\n",
    "    \n",
    "- Extensions I have installed:\n",
    "    - `Cobalt 2` theme\n",
    "    - `Cascadia Code` font\n",
    "     -`vscode-icons`\n",
    "     \n",
    "- My custom settings:\n",
    "    - Font size 19\n",
    "    - `Font Ligatures` are turned on\n",
    "    - Ctrl + `  to open a console window in root directory. \n",
    "    "
   ]
  },
  {
   "cell_type": "markdown",
   "id": "suffering-bangladesh",
   "metadata": {},
   "source": [
    "## Jupyter Notebooks\n",
    "- A Jupyter notebook is what you are currently looking at!\n",
    "- They are a special type of document which stores text, or `markup` data, as well as code.\n",
    "- They are great for `documenting` code, or `prototyping` code!\n",
    "    - Or teaching ;)\n",
    "    \n",
    "- If you want to use Jupyter Notebooks (recommended):\n",
    "    - In the command prompt, run `pip3 install jupyterlab`\n",
    "    - Then, run `jupyter-lab`"
   ]
  },
  {
   "cell_type": "markdown",
   "id": "fixed-greeting",
   "metadata": {},
   "source": [
    "## Variables\n",
    "- A variable is a way of storing some form of data. This can range from numbers, to text data (names, brands, locations, etc), and more!\n",
    "- A variable always has a name!\n",
    "- A variable is declared like the following: \n",
    "    - `number_one = 1`\n",
    "    - Here, the variable named `number_one` is set to be the number one!\n",
    "    \n",
    "- Variable names should be consise, explicit, and must not start with a number, !, period, /, ?, etc.\n",
    "    - For example, do not write: `x = 'Zach'`.\n",
    "    - Instead, write: `my_name = 'Zach'`.\n",
    "- Take a look at the code cell below, and guess what the output would be by looking at the `print()` function!\n",
    "    - The `print()` function writes whatever you put into it to the console!\n",
    "    - `print('Hello, World!')` Would write the text 'Hello World' to the console!"
   ]
  },
  {
   "cell_type": "code",
   "execution_count": 1,
   "id": "instant-joining",
   "metadata": {},
   "outputs": [
    {
     "name": "stdout",
     "output_type": "stream",
     "text": [
      "Zachary\n"
     ]
    }
   ],
   "source": [
    "name = 'Zachary'\n",
    "\n",
    "print(name) # What does this output?"
   ]
  },
  {
   "cell_type": "markdown",
   "id": "verbal-trinity",
   "metadata": {},
   "source": [
    "## Variable Types\n",
    "- In Python, there are 4 `primitive` variable types.\n",
    "    - The word `primitive` refers to the simplest, or lowest, unit of processing.\n",
    "    \n",
    "### The Types:\n",
    "- `float`, or Floats/Numbers:\n",
    "    - Floats are how Python stores numbers!\n",
    "    - These can be decimal, or whole numbers.\n",
    "    - A float is created like:\n",
    "        - `number_variable = 27.50`. \n",
    "        \n",
    "- `int`, or Integers/Numbers:\n",
    "    - Integers are also how Python stores numbers!\n",
    "    - These can be only whole numbers.\n",
    "    - An int has to be `explicitly stated`\n",
    "        - We will get to this next lesson!\n",
    "    - An int is created like:\n",
    "        - `number_variable = 27`.\n",
    "        \n",
    "- `str`, or Strings:\n",
    "    - Strings are how Python stores text data!\n",
    "    - Python strings are typically created using single-quotes, like this: `'Zach'`, but they can be created using double-quotes as well. \n",
    "    - A string is created like:\n",
    "        - `name_string = 'Zach'`\n",
    "        \n",
    "- `bool`, or Boolean:\n",
    "    - Booleans are how Python stores `True` and `False` statements!\n",
    "    - They can ONLY be True and False!\n",
    "    - A boolean is created like:\n",
    "        - `value_true = True`"
   ]
  },
  {
   "cell_type": "markdown",
   "id": "oriented-kentucky",
   "metadata": {},
   "source": [
    "## String Interpolation\n",
    "- `Interpolation` means to insert. \n",
    "    - When working with `strings` it means to add to it!\n",
    "    \n",
    "### How to do it?\n",
    "- To combine two strings, simply use the `+` `operator`!\n",
    "    - For example, if I wanted to combine the words 'hello' and 'world' into one string, I could do this:\n",
    "        - `new_string = 'Hello' + 'World!'\n",
    "        \n",
    "### So... what's an `operator` again?\n",
    "- An `operator` is a symbol that carries out an arithmetic or logical operation!\n",
    "    - Common `operators` are `+` for addition, `-` for subtraction, `/` for division, and `*` for multiplication!\n",
    "        - There are also plenty more, like these:\n",
    "            - `%` gets the remainder after division.\n",
    "            - `**` is used for exponentiation\n",
    "            - `//` is used for floor division!\n",
    "                - This means it rounds the result down.\n",
    "        - There are also `assignment operators`, but we will cover those later on!"
   ]
  },
  {
   "cell_type": "markdown",
   "id": "western-collar",
   "metadata": {},
   "source": [
    "## Putting variables into strings\n",
    "- There are two main ways:\n",
    "    - The `+` operator, but this is often clunky to code, and cannot always be used. \n",
    "    - `f-strings`! Check the code cell below to see these!"
   ]
  },
  {
   "cell_type": "code",
   "execution_count": 10,
   "id": "liked-particular",
   "metadata": {},
   "outputs": [
    {
     "name": "stdout",
     "output_type": "stream",
     "text": [
      "This guy is named Zach!\n"
     ]
    }
   ],
   "source": [
    "name = 'Zach'\n",
    "\n",
    "sentence = f'This guy is named {name}!'\n",
    "\n",
    "print(sentence)"
   ]
  },
  {
   "cell_type": "markdown",
   "id": "nutritional-field",
   "metadata": {},
   "source": [
    "## Conditional Logic\n",
    "- Now for the fun stuff! `Conditionals` are how you control your program!\n",
    "- A `conditional` is run through an `if` statement, an `elif` (else if) statement, or an `else` statement!\n",
    "    - See below cell for conditionals\n",
    "- A `conditional` can check lots of things, such as:\n",
    "    - If a variable exists\n",
    "    - The value of a variable\n",
    "    - If a condition is met.\n",
    "- It does this through conditional operators, such as:\n",
    "    - `<` for less than,\n",
    "    - `>` for greater than,\n",
    "    - `==` for is equal to,\n",
    "    - `is` for is the exact same thing,\n",
    "        - Checks memory location!\n",
    "    - `<=` for less than or equal to,\n",
    "    - `>=` for greater than or equal to,\n",
    "    - or just the variable, to check if it exists!\n",
    "- Comment which statements below will run"
   ]
  },
  {
   "cell_type": "code",
   "execution_count": 8,
   "id": "western-proof",
   "metadata": {},
   "outputs": [
    {
     "name": "stdout",
     "output_type": "stream",
     "text": [
      "Zach wrote this code!\n",
      "Zach was here\n"
     ]
    }
   ],
   "source": [
    "name = 'Zach'\n",
    "number_one = 17\n",
    "number_two = 23\n",
    "value_boolean = True\n",
    "\n",
    "if name == 'Zach': # Block 1\n",
    "    print('Zach wrote this code!')\n",
    "    \n",
    "else: # Block 2\n",
    "    print('Oof, maybe he is not thaaaat pretentious')\n",
    "    \n",
    "if number_one >= number_two: # Block 3\n",
    "    print('[Owen Wilson \"wow\" here, please!]')\n",
    "    \n",
    "elif value_boolean: # Block 4\n",
    "    print('Zach was here')\n",
    "    \n",
    "else: # Block 5\n",
    "    print('oopie poopsie!')"
   ]
  },
  {
   "cell_type": "markdown",
   "id": "changing-ecology",
   "metadata": {},
   "source": [
    "## Lists\n",
    "- Lists store a lot of values!\n",
    "- They can store values of any type!\n",
    "- Lists are created like:\n",
    "    - `names = [ 'Zach', 'Nick', 'Andrew', 'Ethan']`\n",
    "- To add to an already created list, use `list.append()`, like the following:\n",
    "    - `names.append('Kolya')`\n",
    "- To get the length of a list as a number, use `len()`, like the following:\n",
    "    - `len(names)`\n",
    "    \n",
    "- Try to guess the values of the variable `numbers` will be at the end of the following block!"
   ]
  },
  {
   "cell_type": "code",
   "execution_count": 14,
   "id": "specialized-astrology",
   "metadata": {},
   "outputs": [],
   "source": [
    "# Lists\n",
    "\n",
    "numbers = [1, 2, 3, 4, 5, 6]\n",
    "\n",
    "if len(numbers) > 4:\n",
    "    numbers.append(7)\n",
    "else:\n",
    "    numbers.append(10)\n",
    "    \n",
    "if len(numbers) < 6:\n",
    "    numbers.append(11)\n",
    "elif len(numbers) == 7:\n",
    "    numbers.append(12)\n",
    "else:\n",
    "    numbers.append(13)"
   ]
  },
  {
   "cell_type": "markdown",
   "id": "different-genetics",
   "metadata": {},
   "source": [
    "## Lists Continued\n",
    "- List comprehension here..."
   ]
  },
  {
   "cell_type": "code",
   "execution_count": null,
   "id": "hybrid-genre",
   "metadata": {},
   "outputs": [],
   "source": []
  }
 ],
 "metadata": {
  "kernelspec": {
   "display_name": "Python 3",
   "language": "python",
   "name": "python3"
  },
  "language_info": {
   "codemirror_mode": {
    "name": "ipython",
    "version": 3
   },
   "file_extension": ".py",
   "mimetype": "text/x-python",
   "name": "python",
   "nbconvert_exporter": "python",
   "pygments_lexer": "ipython3",
   "version": "3.9.1"
  }
 },
 "nbformat": 4,
 "nbformat_minor": 5
}
